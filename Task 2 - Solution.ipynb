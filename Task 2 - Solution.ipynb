{
 "cells": [
  {
   "cell_type": "markdown",
   "id": "0f0f6718-473c-4e3a-a439-2d8aad68d37d",
   "metadata": {},
   "source": [
    "## Importing libraries"
   ]
  },
  {
   "cell_type": "code",
   "execution_count": 1,
   "id": "2690cc0d",
   "metadata": {},
   "outputs": [],
   "source": [
    "from pandas import DataFrame\n",
    "import pandas as pd\n",
    "import json\n",
    "from user_agents import parse\n",
    "from urllib.parse import urlparse\n",
    "pd.options.mode.chained_assignment = None\n"
   ]
  },
  {
   "cell_type": "markdown",
   "id": "405f38b9-dc77-4593-ae5e-c3fc428a2b0a",
   "metadata": {},
   "source": [
    "### Reading file, renaming columns, and droping null values"
   ]
  },
  {
   "cell_type": "code",
   "execution_count": 2,
   "id": "77fbdeb9",
   "metadata": {},
   "outputs": [],
   "source": [
    "df= pd.read_json('usa.gov_click_data_3.json',lines = True)\n",
    "df.rename(columns={'a':'webbrowser_os','tz':'Time Zone','r':'From URL','u':'To URL','t':'Time In','hc':'Time Out','cy':'City','ll':'longitude_latitude'},inplace=True)\n",
    "df=df[['webbrowser_os','Time Zone','From URL','To URL','Time In','Time Out','City','longitude_latitude']]\n",
    "df.dropna(axis = 0 , inplace=True )"
   ]
  },
  {
   "cell_type": "markdown",
   "id": "f9bb3036-db67-4267-ac52-9a5c08b697b0",
   "metadata": {},
   "source": [
    "### Adding new columns that will replace the user agent column"
   ]
  },
  {
   "cell_type": "code",
   "execution_count": 3,
   "id": "3006ac19-f4c6-447a-8739-1f17bdc19796",
   "metadata": {},
   "outputs": [],
   "source": [
    "df[\"Device\"]=\"\"\n",
    "df[\"System\"]=\"\"\n",
    "df[\"Browser\"]=\"\"\n",
    "df = df[[ 'Device', 'System', 'Browser', 'webbrowser_os', 'Time Zone', 'From URL', 'To URL', 'Time In', 'Time Out', 'City', 'longitude_latitude']]\n"
   ]
  },
  {
   "cell_type": "markdown",
   "id": "9b114c68-f63b-4c12-a1bb-14542e22bcf4",
   "metadata": {},
   "source": [
    "### Extracting the wanted information from the useragent and droppint it"
   ]
  },
  {
   "cell_type": "code",
   "execution_count": 4,
   "id": "de4fe121-bf7f-464b-a112-83a28f225309",
   "metadata": {},
   "outputs": [],
   "source": [
    "for i in df.index:\n",
    "    ua_string = parse(df['webbrowser_os'][i])\n",
    "    x = str(ua_string).replace(\" \", \"\").split(\"/\")\n",
    "    df[\"Device\"][i] = x[0]\n",
    "    df[\"System\"][i] = x[1]\n",
    "    df[\"Browser\"][i] = x[2]\n",
    "df.drop(['webbrowser_os'], axis=1, inplace=True)"
   ]
  },
  {
   "cell_type": "markdown",
   "id": "b5aa252c-d095-4312-b140-e898ea611dff",
   "metadata": {},
   "source": [
    "### Splitting Longitude and Latitude values"
   ]
  },
  {
   "cell_type": "code",
   "execution_count": 5,
   "id": "6311e1fb",
   "metadata": {},
   "outputs": [],
   "source": [
    "df['longitude_latitude'] = df['longitude_latitude'].astype('str')\n",
    "df[['Longitude','Latitude']]= df['longitude_latitude'].str.strip('[]').str.split(',',expand=True)\n",
    "df = df[[ 'Device', 'System', 'Browser', 'Longitude', 'Latitude', 'City',  'From URL', 'To URL', 'Time In', 'Time Out','Time Zone']]"
   ]
  },
  {
   "cell_type": "markdown",
   "id": "fb71a5af-2f22-430f-9704-e20020b512cd",
   "metadata": {},
   "source": [
    "### Transform URLs in short form"
   ]
  },
  {
   "cell_type": "code",
   "execution_count": 6,
   "id": "83a817e8-6605-4bb5-9d36-df55ffbab4a2",
   "metadata": {},
   "outputs": [],
   "source": [
    "for i in df.index:\n",
    "    df['From URL'][i] = urlparse(df['From URL'][i]).netloc\n",
    "    df['To URL'][i] = urlparse(df['To URL'][i]).netloc\n"
   ]
  },
  {
   "cell_type": "code",
   "execution_count": 7,
   "id": "d5e4497e-b301-4597-8b57-119327373c6a",
   "metadata": {},
   "outputs": [],
   "source": [
    "df['From URL'] = df['From URL'].replace(\"\", \"Direct Link\")\n",
    "df['To URL'] = df['To URL'].replace(\"\", \"Direct Link\")\n"
   ]
  },
  {
   "cell_type": "code",
   "execution_count": 8,
   "id": "d4370133-53d3-44ec-b265-0187be4e157d",
   "metadata": {},
   "outputs": [
    {
     "data": {
      "text/html": [
       "<div>\n",
       "<style scoped>\n",
       "    .dataframe tbody tr th:only-of-type {\n",
       "        vertical-align: middle;\n",
       "    }\n",
       "\n",
       "    .dataframe tbody tr th {\n",
       "        vertical-align: top;\n",
       "    }\n",
       "\n",
       "    .dataframe thead th {\n",
       "        text-align: right;\n",
       "    }\n",
       "</style>\n",
       "<table border=\"1\" class=\"dataframe\">\n",
       "  <thead>\n",
       "    <tr style=\"text-align: right;\">\n",
       "      <th></th>\n",
       "      <th>Device</th>\n",
       "      <th>System</th>\n",
       "      <th>Browser</th>\n",
       "      <th>Longitude</th>\n",
       "      <th>Latitude</th>\n",
       "      <th>City</th>\n",
       "      <th>From URL</th>\n",
       "      <th>To URL</th>\n",
       "      <th>Time In</th>\n",
       "      <th>Time Out</th>\n",
       "      <th>Time Zone</th>\n",
       "    </tr>\n",
       "  </thead>\n",
       "  <tbody>\n",
       "    <tr>\n",
       "      <th>0</th>\n",
       "      <td>PC</td>\n",
       "      <td>Windows7</td>\n",
       "      <td>Chrome17.0.963</td>\n",
       "      <td>42.576698</td>\n",
       "      <td>-70.954903</td>\n",
       "      <td>Danvers</td>\n",
       "      <td>www.facebook.com</td>\n",
       "      <td>www.ncbi.nlm.nih.gov</td>\n",
       "      <td>1.331923e+09</td>\n",
       "      <td>1.331823e+09</td>\n",
       "      <td>America/New_York</td>\n",
       "    </tr>\n",
       "    <tr>\n",
       "      <th>1</th>\n",
       "      <td>Other</td>\n",
       "      <td>Other</td>\n",
       "      <td>Other</td>\n",
       "      <td>40.218102</td>\n",
       "      <td>-111.613297</td>\n",
       "      <td>Provo</td>\n",
       "      <td>www.AwareMap.com</td>\n",
       "      <td>www.monroecounty.gov</td>\n",
       "      <td>1.331923e+09</td>\n",
       "      <td>1.308262e+09</td>\n",
       "      <td>America/Denver</td>\n",
       "    </tr>\n",
       "    <tr>\n",
       "      <th>2</th>\n",
       "      <td>PC</td>\n",
       "      <td>Windows7</td>\n",
       "      <td>IE8.0</td>\n",
       "      <td>38.9007</td>\n",
       "      <td>-77.043098</td>\n",
       "      <td>Washington</td>\n",
       "      <td>t.co</td>\n",
       "      <td>boxer.senate.gov</td>\n",
       "      <td>1.331923e+09</td>\n",
       "      <td>1.331920e+09</td>\n",
       "      <td>America/New_York</td>\n",
       "    </tr>\n",
       "    <tr>\n",
       "      <th>3</th>\n",
       "      <td>PC</td>\n",
       "      <td>MacOSX10.6.8</td>\n",
       "      <td>Safari5.1.2</td>\n",
       "      <td>-23.549999</td>\n",
       "      <td>-46.616699</td>\n",
       "      <td>Braz</td>\n",
       "      <td>Direct Link</td>\n",
       "      <td>apod.nasa.gov</td>\n",
       "      <td>1.331923e+09</td>\n",
       "      <td>1.331923e+09</td>\n",
       "      <td>America/Sao_Paulo</td>\n",
       "    </tr>\n",
       "    <tr>\n",
       "      <th>4</th>\n",
       "      <td>PC</td>\n",
       "      <td>Windows7</td>\n",
       "      <td>Chrome17.0.963</td>\n",
       "      <td>42.286499</td>\n",
       "      <td>-71.714699</td>\n",
       "      <td>Shrewsbury</td>\n",
       "      <td>www.shrewsbury-ma.gov</td>\n",
       "      <td>www.shrewsbury-ma.gov</td>\n",
       "      <td>1.331923e+09</td>\n",
       "      <td>1.273672e+09</td>\n",
       "      <td>America/New_York</td>\n",
       "    </tr>\n",
       "  </tbody>\n",
       "</table>\n",
       "</div>"
      ],
      "text/plain": [
       "  Device        System         Browser   Longitude      Latitude        City  \\\n",
       "0     PC      Windows7  Chrome17.0.963   42.576698    -70.954903     Danvers   \n",
       "1  Other         Other           Other   40.218102   -111.613297       Provo   \n",
       "2     PC      Windows7           IE8.0     38.9007    -77.043098  Washington   \n",
       "3     PC  MacOSX10.6.8     Safari5.1.2  -23.549999    -46.616699        Braz   \n",
       "4     PC      Windows7  Chrome17.0.963   42.286499    -71.714699  Shrewsbury   \n",
       "\n",
       "                From URL                 To URL       Time In      Time Out  \\\n",
       "0       www.facebook.com   www.ncbi.nlm.nih.gov  1.331923e+09  1.331823e+09   \n",
       "1       www.AwareMap.com   www.monroecounty.gov  1.331923e+09  1.308262e+09   \n",
       "2                   t.co       boxer.senate.gov  1.331923e+09  1.331920e+09   \n",
       "3            Direct Link          apod.nasa.gov  1.331923e+09  1.331923e+09   \n",
       "4  www.shrewsbury-ma.gov  www.shrewsbury-ma.gov  1.331923e+09  1.273672e+09   \n",
       "\n",
       "           Time Zone  \n",
       "0   America/New_York  \n",
       "1     America/Denver  \n",
       "2   America/New_York  \n",
       "3  America/Sao_Paulo  \n",
       "4   America/New_York  "
      ]
     },
     "execution_count": 8,
     "metadata": {},
     "output_type": "execute_result"
    }
   ],
   "source": [
    "df.head()"
   ]
  },
  {
   "cell_type": "code",
   "execution_count": 39,
   "id": "f52c9661-5022-45d6-8ab6-abc8d1ffa811",
   "metadata": {},
   "outputs": [
    {
     "data": {
      "text/plain": [
       "Device       0\n",
       "System       0\n",
       "Browser      0\n",
       "Longitude    0\n",
       "Latitude     0\n",
       "City         0\n",
       "From URL     0\n",
       "To URL       0\n",
       "Time In      0\n",
       "Time Out     0\n",
       "Time Zone    0\n",
       "dtype: int64"
      ]
     },
     "execution_count": 39,
     "metadata": {},
     "output_type": "execute_result"
    }
   ],
   "source": [
    "df.isnull().sum()"
   ]
  },
  {
   "cell_type": "markdown",
   "id": "34ea078c",
   "metadata": {},
   "source": [
    "# Saving The Data Frame to A CSV File"
   ]
  },
  {
   "cell_type": "code",
   "execution_count": 49,
   "id": "ffa48b50",
   "metadata": {},
   "outputs": [],
   "source": [
    "df.to_csv(r'C:\\ITI\\Python\\Task 2\\target\\usa.gov_click_data_3.csv', index=False)\n"
   ]
  },
  {
   "cell_type": "code",
   "execution_count": null,
   "id": "375fe461-a4b2-4138-b0ee-11783faca744",
   "metadata": {},
   "outputs": [],
   "source": []
  }
 ],
 "metadata": {
  "kernelspec": {
   "display_name": "Python 3 (ipykernel)",
   "language": "python",
   "name": "python3"
  },
  "language_info": {
   "codemirror_mode": {
    "name": "ipython",
    "version": 3
   },
   "file_extension": ".py",
   "mimetype": "text/x-python",
   "name": "python",
   "nbconvert_exporter": "python",
   "pygments_lexer": "ipython3",
   "version": "3.9.7"
  }
 },
 "nbformat": 4,
 "nbformat_minor": 5
}
